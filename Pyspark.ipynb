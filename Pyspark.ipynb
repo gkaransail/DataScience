{
  "nbformat": 4,
  "nbformat_minor": 0,
  "metadata": {
    "colab": {
      "provenance": []
    },
    "kernelspec": {
      "name": "python3",
      "display_name": "Python 3"
    },
    "language_info": {
      "name": "python"
    }
  },
  "cells": [
    {
      "cell_type": "code",
      "execution_count": 2,
      "metadata": {
        "colab": {
          "base_uri": "https://localhost:8080/"
        },
        "id": "GJ7Xqjb3wPWX",
        "outputId": "3ac0747a-9c5e-4238-b3cb-544f181f0274"
      },
      "outputs": [
        {
          "output_type": "stream",
          "name": "stdout",
          "text": [
            "Looking in indexes: https://pypi.org/simple, https://us-python.pkg.dev/colab-wheels/public/simple/\n",
            "Collecting pyspark\n",
            "  Downloading pyspark-3.4.0.tar.gz (310.8 MB)\n",
            "\u001b[2K     \u001b[90m━━━━━━━━━━━━━━━━━━━━━━━━━━━━━━━━━━━━━━━\u001b[0m \u001b[32m310.8/310.8 MB\u001b[0m \u001b[31m2.7 MB/s\u001b[0m eta \u001b[36m0:00:00\u001b[0m\n",
            "\u001b[?25h  Preparing metadata (setup.py) ... \u001b[?25l\u001b[?25hdone\n",
            "Requirement already satisfied: py4j==0.10.9.7 in /usr/local/lib/python3.10/dist-packages (from pyspark) (0.10.9.7)\n",
            "Building wheels for collected packages: pyspark\n",
            "  Building wheel for pyspark (setup.py) ... \u001b[?25l\u001b[?25hdone\n",
            "  Created wheel for pyspark: filename=pyspark-3.4.0-py2.py3-none-any.whl size=311317130 sha256=77a288869c0a7da2dde371144c717e5e02a54111520eff22de496d9ba8356508\n",
            "  Stored in directory: /root/.cache/pip/wheels/7b/1b/4b/3363a1d04368e7ff0d408e57ff57966fcdf00583774e761327\n",
            "Successfully built pyspark\n",
            "Installing collected packages: pyspark\n",
            "Successfully installed pyspark-3.4.0\n"
          ]
        }
      ],
      "source": [
        "!pip install pyspark"
      ]
    },
    {
      "cell_type": "markdown",
      "source": [
        "Importing the packages"
      ],
      "metadata": {
        "id": "bFYuWur2zpLu"
      }
    },
    {
      "cell_type": "code",
      "source": [
        "from pyspark.sql import SparkSession\n",
        "from pyspark.sql.types import StringType, StructType, StructField, IntegerType\n",
        "import pyspark.sql.functions as func"
      ],
      "metadata": {
        "id": "WWV9vTwlz0mf"
      },
      "execution_count": 7,
      "outputs": []
    },
    {
      "cell_type": "markdown",
      "source": [
        "Creating the SparkSession"
      ],
      "metadata": {
        "id": "hNrP_NHz2ad1"
      }
    },
    {
      "cell_type": "code",
      "source": [
        "spark = SparkSession.builder.appName(\"FirstApp\").getOrCreate()"
      ],
      "metadata": {
        "id": "4HcZssqo1_6k"
      },
      "execution_count": 5,
      "outputs": []
    },
    {
      "cell_type": "markdown",
      "source": [
        "Defining Schema for your Dataframe "
      ],
      "metadata": {
        "id": "DwaTYrbs2fEF"
      }
    },
    {
      "cell_type": "code",
      "source": [
        "myschema =  StructType([\\\n",
        "                        StructField(\"userID\", IntegerType(), True),\n",
        "                        StructField(\"name\", StringType(), True),\n",
        "                        StructField(\"age\", IntegerType(), True),\n",
        "                        StructField(\"friends\", IntegerType(), True),\n",
        "                        ])"
      ],
      "metadata": {
        "id": "bIxAkG812kgY"
      },
      "execution_count": 9,
      "outputs": []
    },
    {
      "cell_type": "code",
      "source": [
        "myschema"
      ],
      "metadata": {
        "colab": {
          "base_uri": "https://localhost:8080/"
        },
        "id": "JPinywxN8JWr",
        "outputId": "70b9ac65-84e9-4122-ce4c-d28a594f1f35"
      },
      "execution_count": 13,
      "outputs": [
        {
          "output_type": "execute_result",
          "data": {
            "text/plain": [
              "StructType([StructField('userID', IntegerType(), True), StructField('name', StringType(), True), StructField('age', IntegerType(), True), StructField('friends', IntegerType(), True)])"
            ]
          },
          "metadata": {},
          "execution_count": 13
        }
      ]
    },
    {
      "cell_type": "markdown",
      "source": [
        "Creating Dataframe on a CSV file"
      ],
      "metadata": {
        "id": "vdolyu5a5ey1"
      }
    },
    {
      "cell_type": "code",
      "source": [
        "people = spark.read.format(\"csv\")\\\n",
        "    .schema(myschema)\\\n",
        "    .option(\"path\",\"/content/fakeFriends.csv\")\\\n",
        "    .load()"
      ],
      "metadata": {
        "id": "ZxODbOD25dkL"
      },
      "execution_count": 12,
      "outputs": []
    },
    {
      "cell_type": "code",
      "source": [
        "print(people)"
      ],
      "metadata": {
        "colab": {
          "base_uri": "https://localhost:8080/"
        },
        "id": "Y3s3mFL38LRS",
        "outputId": "fb21ba3f-1491-4e4b-9500-648eec9c3b5c"
      },
      "execution_count": 15,
      "outputs": [
        {
          "output_type": "stream",
          "name": "stdout",
          "text": [
            "DataFrame[userID: int, name: string, age: int, friends: int]\n"
          ]
        }
      ]
    },
    {
      "cell_type": "markdown",
      "source": [
        "Performing all Transformations"
      ],
      "metadata": {
        "id": "f5Jy1XnQ9HdI"
      }
    },
    {
      "cell_type": "code",
      "source": [
        "output = people.select(people.userID, people.name\\\n",
        "                       ,people.age, people.friends)\\\n",
        "                       .where(people.age<30).withColumn('insert_ts',func.current_timestamp())\\\n",
        "                       .orderBy(people.userID)"
      ],
      "metadata": {
        "id": "HbCeqeMP9Lm7"
      },
      "execution_count": 16,
      "outputs": []
    },
    {
      "cell_type": "code",
      "source": [
        "output.count()"
      ],
      "metadata": {
        "colab": {
          "base_uri": "https://localhost:8080/"
        },
        "id": "4zzP5tmC9u1u",
        "outputId": "9fcda24c-99bc-4c35-b753-057781a21e98"
      },
      "execution_count": 18,
      "outputs": [
        {
          "output_type": "execute_result",
          "data": {
            "text/plain": [
              "112"
            ]
          },
          "metadata": {},
          "execution_count": 18
        }
      ]
    },
    {
      "cell_type": "markdown",
      "source": [
        "Creating a Temp View"
      ],
      "metadata": {
        "id": "6Co9umbc-0l3"
      }
    },
    {
      "cell_type": "code",
      "source": [
        "output.createOrReplaceTempView(\"people\")"
      ],
      "metadata": {
        "id": "vFaMI3Uq-23A"
      },
      "execution_count": 22,
      "outputs": []
    },
    {
      "cell_type": "code",
      "source": [
        "spark.sql(\"select name, age,friends, insert_ts from people\").show()"
      ],
      "metadata": {
        "colab": {
          "base_uri": "https://localhost:8080/"
        },
        "id": "WtQzCAsJ_A_Q",
        "outputId": "4b9d3ecf-7846-4d6b-d388-efa52bd3a67f"
      },
      "execution_count": 23,
      "outputs": [
        {
          "output_type": "stream",
          "name": "stdout",
          "text": [
            "+--------+---+-------+--------------------+\n",
            "|    name|age|friends|           insert_ts|\n",
            "+--------+---+-------+--------------------+\n",
            "|Jean-Luc| 26|      2|2023-05-26 16:56:...|\n",
            "|    Hugh| 27|    181|2023-05-26 16:56:...|\n",
            "|  Weyoun| 22|    323|2023-05-26 16:56:...|\n",
            "|   Miles| 19|    268|2023-05-26 16:56:...|\n",
            "|  Julian| 25|      1|2023-05-26 16:56:...|\n",
            "|     Ben| 21|    445|2023-05-26 16:56:...|\n",
            "|  Julian| 22|    100|2023-05-26 16:56:...|\n",
            "|     Nog| 26|    281|2023-05-26 16:56:...|\n",
            "| Beverly| 27|    305|2023-05-26 16:56:...|\n",
            "|    Morn| 25|     96|2023-05-26 16:56:...|\n",
            "|   Brunt| 24|     49|2023-05-26 16:56:...|\n",
            "|     Nog| 20|      1|2023-05-26 16:56:...|\n",
            "| Beverly| 19|    269|2023-05-26 16:56:...|\n",
            "|   Brunt| 19|      5|2023-05-26 16:56:...|\n",
            "|  Geordi| 20|    100|2023-05-26 16:56:...|\n",
            "|  Geordi| 21|    477|2023-05-26 16:56:...|\n",
            "|  Kasidy| 22|    179|2023-05-26 16:56:...|\n",
            "|   Brunt| 20|    384|2023-05-26 16:56:...|\n",
            "|     Ben| 28|    311|2023-05-26 16:56:...|\n",
            "|    Worf| 24|    492|2023-05-26 16:56:...|\n",
            "+--------+---+-------+--------------------+\n",
            "only showing top 20 rows\n",
            "\n"
          ]
        }
      ]
    }
  ]
}